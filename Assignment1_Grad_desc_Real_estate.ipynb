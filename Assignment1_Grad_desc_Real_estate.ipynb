{
  "nbformat": 4,
  "nbformat_minor": 0,
  "metadata": {
    "colab": {
      "name": "Untitled",
      "provenance": [],
      "collapsed_sections": [],
      "authorship_tag": "ABX9TyNd7sphDI6XXn0r2O3EIWtj",
      "include_colab_link": true
    },
    "kernelspec": {
      "name": "python3",
      "display_name": "Python 3"
    },
    "language_info": {
      "name": "python"
    }
  },
  "cells": [
    {
      "cell_type": "markdown",
      "metadata": {
        "id": "view-in-github",
        "colab_type": "text"
      },
      "source": [
        "<a href=\"https://colab.research.google.com/github/Ekaterina37/CS6375.502/blob/master/Assignment1_Grad_desc_Real_estate.ipynb\" target=\"_parent\"><img src=\"https://colab.research.google.com/assets/colab-badge.svg\" alt=\"Open In Colab\"/></a>"
      ]
    },
    {
      "cell_type": "code",
      "execution_count": 132,
      "metadata": {
        "id": "MpOFzEsZgS_9"
      },
      "outputs": [],
      "source": [
        "import numpy as np\n",
        "import matplotlib.pyplot as plt \n",
        "import pandas as pd  \n",
        "import seaborn as sns \n",
        "from sklearn.metrics import r2_score\n",
        "from sklearn.preprocessing import StandardScaler\n",
        "from sklearn.model_selection import train_test_split\n",
        "from sklearn.linear_model import LinearRegression\n",
        "from sklearn.metrics import mean_squared_error\n",
        "from sklearn.linear_model import SGDRegressor\n",
        "from sklearn.preprocessing import StandardScaler\n",
        "\n",
        "%matplotlib inline"
      ]
    },
    {
      "cell_type": "code",
      "source": [
        "#data = pd.DataFrame(wine_dataset.data, columns=wine_dataset.feature_names)\n",
        "#data.head()\n",
        "#data = pd.read_csv(\"https://archive.ics.uci.edu/ml/machine-learning-databases/wine-quality/winequality-red.csv\", sep=\";\") \n",
        "data = pd.read_csv(\"https://raw.githubusercontent.com/Ekaterina37/CS6375.502/master/winequality-red%20(1).csv\")\n",
        "\n",
        "data =pd.read_excel(\"https://archive.ics.uci.edu/ml/machine-learning-databases/00477/Real%20estate%20valuation%20data%20set.xlsx\")"
      ],
      "metadata": {
        "id": "6_HaUOEA1YUz"
      },
      "execution_count": 112,
      "outputs": []
    },
    {
      "cell_type": "code",
      "source": [
        "#dropping a useless No column\n",
        "#data = data.drop('No', 1)\n",
        "\n",
        "for col in data.columns:\n",
        "  print(col)"
      ],
      "metadata": {
        "colab": {
          "base_uri": "https://localhost:8080/"
        },
        "id": "i4uhsSg7_vaf",
        "outputId": "ec471cb9-1f43-4b15-9a65-84143a3b1fbc"
      },
      "execution_count": 113,
      "outputs": [
        {
          "output_type": "stream",
          "name": "stdout",
          "text": [
            "No\n",
            "X1 transaction date\n",
            "X2 house age\n",
            "X3 distance to the nearest MRT station\n",
            "X4 number of convenience stores\n",
            "X5 latitude\n",
            "X6 longitude\n",
            "Y house price of unit area\n"
          ]
        }
      ]
    },
    {
      "cell_type": "code",
      "source": [
        "#print first 5 rows\n",
        "print(data)"
      ],
      "metadata": {
        "colab": {
          "base_uri": "https://localhost:8080/"
        },
        "id": "eoVMl-vH2cbc",
        "outputId": "b78ee33d-392e-48d0-dfed-a6d08c71bf16"
      },
      "execution_count": 114,
      "outputs": [
        {
          "output_type": "stream",
          "name": "stdout",
          "text": [
            "      No  X1 transaction date  ...  X6 longitude  Y house price of unit area\n",
            "0      1          2012.916667  ...     121.54024                        37.9\n",
            "1      2          2012.916667  ...     121.53951                        42.2\n",
            "2      3          2013.583333  ...     121.54391                        47.3\n",
            "3      4          2013.500000  ...     121.54391                        54.8\n",
            "4      5          2012.833333  ...     121.54245                        43.1\n",
            "..   ...                  ...  ...           ...                         ...\n",
            "409  410          2013.000000  ...     121.50381                        15.4\n",
            "410  411          2012.666667  ...     121.54310                        50.0\n",
            "411  412          2013.250000  ...     121.53986                        40.6\n",
            "412  413          2013.000000  ...     121.54067                        52.5\n",
            "413  414          2013.500000  ...     121.54310                        63.9\n",
            "\n",
            "[414 rows x 8 columns]\n"
          ]
        }
      ]
    },
    {
      "cell_type": "code",
      "source": [
        "#assign x as a Dataframe of features and Y as series of outcomes\n",
        "\n",
        "#X = data.drop('Y house price of unit area', 1) #feature matrix\n",
        "#Y = data['Y house price of unit area'] #target variable\n",
        "#newdata = data.values\n",
        "#Y = newdata[:, -1].reshape(newdata.shape[0],1)\n",
        "#X = newdata[:, :-1]\n"
      ],
      "metadata": {
        "colab": {
          "base_uri": "https://localhost:8080/"
        },
        "id": "PnvwvjQ46_52",
        "outputId": "faf50421-dc21-4c17-d479-fff24c29f40e"
      },
      "execution_count": null,
      "outputs": [
        {
          "output_type": "stream",
          "name": "stderr",
          "text": [
            "/usr/local/lib/python3.7/dist-packages/ipykernel_launcher.py:3: FutureWarning: In a future version of pandas all arguments of DataFrame.drop except for the argument 'labels' will be keyword-only\n",
            "  This is separate from the ipykernel package so we can avoid doing imports until\n"
          ]
        }
      ]
    },
    {
      "cell_type": "code",
      "source": [
        "#checking for nulls - all good\n",
        "data.isnull().sum()"
      ],
      "metadata": {
        "colab": {
          "base_uri": "https://localhost:8080/"
        },
        "id": "CArreJ0FkBq7",
        "outputId": "c1f4f19e-63a5-4578-db83-a7270ee0a23f"
      },
      "execution_count": 115,
      "outputs": [
        {
          "output_type": "execute_result",
          "data": {
            "text/plain": [
              "No                                        0\n",
              "X1 transaction date                       0\n",
              "X2 house age                              0\n",
              "X3 distance to the nearest MRT station    0\n",
              "X4 number of convenience stores           0\n",
              "X5 latitude                               0\n",
              "X6 longitude                              0\n",
              "Y house price of unit area                0\n",
              "dtype: int64"
            ]
          },
          "metadata": {},
          "execution_count": 115
        }
      ]
    },
    {
      "cell_type": "code",
      "source": [
        "#for the real estate\n",
        "data = data.drop('No', 1)"
      ],
      "metadata": {
        "colab": {
          "base_uri": "https://localhost:8080/"
        },
        "id": "M5kxgz2TZ8CE",
        "outputId": "9d10aa3c-2a9b-4bca-d0e3-7da37acf3b2c"
      },
      "execution_count": 116,
      "outputs": [
        {
          "output_type": "stream",
          "name": "stderr",
          "text": [
            "/usr/local/lib/python3.7/dist-packages/ipykernel_launcher.py:2: FutureWarning: In a future version of pandas all arguments of DataFrame.drop except for the argument 'labels' will be keyword-only\n",
            "  \n"
          ]
        }
      ]
    },
    {
      "cell_type": "code",
      "source": [
        "#plotting\n",
        "#sns.displot(data['quality'])\n",
        "sns.displot(data['Y house price of unit area'])"
      ],
      "metadata": {
        "colab": {
          "base_uri": "https://localhost:8080/",
          "height": 387
        },
        "id": "nDObbwu5kGo6",
        "outputId": "7ba78204-7c2a-4a0c-9785-d95172a0fa68"
      },
      "execution_count": 117,
      "outputs": [
        {
          "output_type": "execute_result",
          "data": {
            "text/plain": [
              "<seaborn.axisgrid.FacetGrid at 0x7fd9f5270b90>"
            ]
          },
          "metadata": {},
          "execution_count": 117
        },
        {
          "output_type": "display_data",
          "data": {
            "image/png": "[encoded data removed]",
            "text/plain": [
              "<Figure size 360x360 with 1 Axes>"
            ]
          },
          "metadata": {
            "needs_background": "light"
          }
        }
      ]
    },
    {
      "cell_type": "code",
      "source": [
        "#making matrix for heatmap\n",
        "matrix = data.corr()\n",
        "print(matrix)"
      ],
      "metadata": {
        "colab": {
          "base_uri": "https://localhost:8080/"
        },
        "id": "7ZszWEIVTELN",
        "outputId": "050815c2-d643-49bf-a2d9-f2fdd8d454dc"
      },
      "execution_count": 118,
      "outputs": [
        {
          "output_type": "stream",
          "name": "stdout",
          "text": [
            "                                        X1 transaction date  ...  Y house price of unit area\n",
            "X1 transaction date                                1.000000  ...                    0.087529\n",
            "X2 house age                                       0.017542  ...                   -0.210567\n",
            "X3 distance to the nearest MRT station             0.060880  ...                   -0.673613\n",
            "X4 number of convenience stores                    0.009544  ...                    0.571005\n",
            "X5 latitude                                        0.035016  ...                    0.546307\n",
            "X6 longitude                                      -0.041065  ...                    0.523287\n",
            "Y house price of unit area                         0.087529  ...                    1.000000\n",
            "\n",
            "[7 rows x 7 columns]\n"
          ]
        }
      ]
    },
    {
      "cell_type": "code",
      "source": [
        "sns.heatmap(data = matrix, annot=True)"
      ],
      "metadata": {
        "colab": {
          "base_uri": "https://localhost:8080/",
          "height": 471
        },
        "id": "7L-fuSOzpfD8",
        "outputId": "6e178c61-a67f-49d3-e5a2-524028f6e107"
      },
      "execution_count": 96,
      "outputs": [
        {
          "output_type": "execute_result",
          "data": {
            "text/plain": [
              "<matplotlib.axes._subplots.AxesSubplot at 0x7fd9f53d3490>"
            ]
          },
          "metadata": {},
          "execution_count": 96
        },
        {
          "output_type": "display_data",
          "data": {
            "image/png": "[encoded data removed]",
            "text/plain": [
              "<Figure size 432x288 with 2 Axes>"
            ]
          },
          "metadata": {
            "needs_background": "light"
          }
        }
      ]
    },
    {
      "cell_type": "code",
      "source": [
        ""
      ],
      "metadata": {
        "id": "4BkNsd4oFTGN"
      },
      "execution_count": null,
      "outputs": []
    },
    {
      "cell_type": "code",
      "source": [
        "#standardization\n",
        "s = StandardScaler()\n",
        "data = pd.DataFrame(s.fit(data).fit_transform(data))"
      ],
      "metadata": {
        "id": "2qIUxPe8s189"
      },
      "execution_count": 119,
      "outputs": []
    },
    {
      "cell_type": "code",
      "source": [
        "#add column of 1's\n",
        "#data.insert(0, \"X1\", 1)\n",
        "#X.describe()"
      ],
      "metadata": {
        "id": "s3oGD9wEbjkg"
      },
      "execution_count": null,
      "outputs": []
    },
    {
      "cell_type": "code",
      "source": [
        "#X_train, X_test, Y_train, Y_test = train_test_split(X,Y, test_size = 0.2, random_state=5)\n",
        "train, test = train_test_split(data, test_size = 0.2, random_state=5)"
      ],
      "metadata": {
        "id": "hNbK21yIv9dF"
      },
      "execution_count": 120,
      "outputs": []
    },
    {
      "cell_type": "code",
      "source": [
        "print(train.shape)\n",
        "print(test.shape)"
      ],
      "metadata": {
        "colab": {
          "base_uri": "https://localhost:8080/"
        },
        "id": "j3IdYO5tqr-N",
        "outputId": "6eadd520-8567-4006-9850-f6331abec085"
      },
      "execution_count": 121,
      "outputs": [
        {
          "output_type": "stream",
          "name": "stdout",
          "text": [
            "(331, 7)\n",
            "(83, 7)\n"
          ]
        }
      ]
    },
    {
      "cell_type": "code",
      "source": [
        "train_data = train.values\n",
        "Y = train_data[:, -1].reshape(train_data.shape[0], 1)\n",
        "X = train_data[:, :-1]"
      ],
      "metadata": {
        "id": "NqN7noYbq6uc"
      },
      "execution_count": 122,
      "outputs": []
    },
    {
      "cell_type": "code",
      "source": [
        "test_data = test.values\n",
        "Y_test = test_data[:, -1].reshape(test_data.shape[0], 1)\n",
        "X_test = test_data[:, :-1]"
      ],
      "metadata": {
        "id": "kSgpMmSCrTHF"
      },
      "execution_count": 123,
      "outputs": []
    },
    {
      "cell_type": "code",
      "source": [
        "#Checking shape 1279 wines with 12 features\n",
        "print(\"Shape X_train :\", X.shape)\n",
        "print(\"Shape Y_train :\", Y.shape)\n",
        "print(\"Shape X_test :\", X_test.shape)\n",
        "print(\"Shape Y_test :\", Y_test.shape)"
      ],
      "metadata": {
        "colab": {
          "base_uri": "https://localhost:8080/"
        },
        "id": "dmynDqT_umc9",
        "outputId": "40c486f8-0e08-47bd-c80e-6fe3916f232c"
      },
      "execution_count": 124,
      "outputs": [
        {
          "output_type": "stream",
          "name": "stdout",
          "text": [
            "Shape X_train : (331, 6)\n",
            "Shape Y_train : (331, 1)\n",
            "Shape X_test : (83, 6)\n",
            "Shape Y_test : (83, 1)\n"
          ]
        }
      ]
    },
    {
      "cell_type": "code",
      "source": [
        "X = np.vstack((np.ones((X.shape[0], )), X.T)).T\n",
        "X_test = np.vstack((np.ones((X_test.shape[0], )), X_test.T)).T"
      ],
      "metadata": {
        "id": "PnUxijVRduYE"
      },
      "execution_count": 125,
      "outputs": []
    },
    {
      "cell_type": "code",
      "source": [
        "#theta - vector, matrix size 70,1\n",
        "def model(X,Y, learn_rate, iter):\n",
        "   m = Y.size\n",
        "   theta = np.zeros((X.shape[1],1))\n",
        "   cost_list = []\n",
        "\n",
        "   for i in range(iter):\n",
        "     y_predict = np.dot(X, theta)\n",
        "\n",
        "     cost = (1/(2*m))*np.sum(np.square(y_predict - Y))\n",
        "\n",
        "     d_theta = (1/m)*np.dot(X.T, y_predict - Y)\n",
        "     theta = theta - learn_rate*d_theta\n",
        "     \n",
        "     cost_list.append(cost)\n",
        "     \n",
        "     # let's print cost of the 5 first times\n",
        "     if(i%(iter/5) == 0):\n",
        "       print(\"Cost is :\", cost)\n",
        "       \n",
        "   return theta, cost_list\n",
        "\n"
      ],
      "metadata": {
        "id": "aCr2FR_CuF4K"
      },
      "execution_count": 127,
      "outputs": []
    },
    {
      "cell_type": "code",
      "source": [
        "iter = 100000\n",
        "learn_rate = 0.0001\n",
        "theta, cost_list = model(X,Y,learn_rate, iter)"
      ],
      "metadata": {
        "colab": {
          "base_uri": "https://localhost:8080/"
        },
        "id": "_uUpmVHHy1_-",
        "outputId": "f6827198-4f64-40e8-d345-b2323f5df73c"
      },
      "execution_count": 128,
      "outputs": [
        {
          "output_type": "stream",
          "name": "stdout",
          "text": [
            "Cost is : 0.5293022356443842\n",
            "Cost is : 0.22797725492943488\n",
            "Cost is : 0.2247581242143092\n",
            "Cost is : 0.22373406057410625\n",
            "Cost is : 0.22321341055462546\n"
          ]
        }
      ]
    },
    {
      "cell_type": "code",
      "source": [
        "rng = np.arange(0, iter)\n",
        "plt.plot(rng, cost_list)\n",
        "plt.show()"
      ],
      "metadata": {
        "colab": {
          "base_uri": "https://localhost:8080/",
          "height": 265
        },
        "id": "5fMHRsQo0AH_",
        "outputId": "8003b19d-1722-4592-a413-ca4f0e8fb88c"
      },
      "execution_count": 129,
      "outputs": [
        {
          "output_type": "display_data",
          "data": {
            "image/png": "[encoded data removed]",
            "text/plain": [
              "<Figure size 432x288 with 1 Axes>"
            ]
          },
          "metadata": {
            "needs_background": "light"
          }
        }
      ]
    },
    {
      "cell_type": "code",
      "source": [
        "y_pred = np.dot(X_test, theta)\n",
        "error = (1/X_test.shape[0])*np.sum(np.abs(y_pred - Y_test))"
      ],
      "metadata": {
        "id": "ND81EvqZ1re0"
      },
      "execution_count": 130,
      "outputs": []
    },
    {
      "cell_type": "code",
      "source": [
        "error"
      ],
      "metadata": {
        "colab": {
          "base_uri": "https://localhost:8080/"
        },
        "id": "GPMVj0w52TaV",
        "outputId": "e32c064b-fc6f-4636-ea73-a61ea10fa55d"
      },
      "execution_count": 131,
      "outputs": [
        {
          "output_type": "execute_result",
          "data": {
            "text/plain": [
              "0.4077222835774081"
            ]
          },
          "metadata": {},
          "execution_count": 131
        }
      ]
    },
    {
      "cell_type": "code",
      "source": [
        "#Now let's do it using a library\n"
      ],
      "metadata": {
        "id": "6CGQ-AqX5chQ"
      },
      "execution_count": null,
      "outputs": []
    }
  ]
}